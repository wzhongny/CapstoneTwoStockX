{
 "cells": [
  {
   "cell_type": "code",
   "execution_count": 1,
   "id": "loaded-mainland",
   "metadata": {},
   "outputs": [],
   "source": [
    "#imports\n",
    "import pandas as pd\n",
    "import numpy as np\n",
    "import matplotlib.pyplot as plt\n",
    "import seaborn as sns\n",
    "from sklearn.linear_model import LinearRegression\n",
    "from sklearn.ensemble import RandomForestRegressor\n",
    "from sklearn.metrics import r2_score, mean_squared_error, mean_absolute_error\n",
    "from sklearn.model_selection import cross_validate, RandomizedSearchCV\n",
    "from sklearn.preprocessing import StandardScaler, MinMaxScaler"
   ]
  },
  {
   "cell_type": "code",
   "execution_count": 2,
   "id": "cooked-telescope",
   "metadata": {},
   "outputs": [
    {
     "data": {
      "text/html": [
       "<div>\n",
       "<style scoped>\n",
       "    .dataframe tbody tr th:only-of-type {\n",
       "        vertical-align: middle;\n",
       "    }\n",
       "\n",
       "    .dataframe tbody tr th {\n",
       "        vertical-align: top;\n",
       "    }\n",
       "\n",
       "    .dataframe thead th {\n",
       "        text-align: right;\n",
       "    }\n",
       "</style>\n",
       "<table border=\"1\" class=\"dataframe\">\n",
       "  <thead>\n",
       "    <tr style=\"text-align: right;\">\n",
       "      <th></th>\n",
       "      <th>Brand</th>\n",
       "      <th>Retail Price</th>\n",
       "      <th>Shoe Size</th>\n",
       "      <th>Days_after_release_2 weeks</th>\n",
       "      <th>Days_after_release_2 months</th>\n",
       "      <th>Days_after_release_1 year</th>\n",
       "      <th>Days_after_release_Over 1 year</th>\n",
       "    </tr>\n",
       "  </thead>\n",
       "  <tbody>\n",
       "    <tr>\n",
       "      <th>43153</th>\n",
       "      <td>0</td>\n",
       "      <td>220</td>\n",
       "      <td>12.0</td>\n",
       "      <td>0</td>\n",
       "      <td>0</td>\n",
       "      <td>0</td>\n",
       "      <td>1</td>\n",
       "    </tr>\n",
       "    <tr>\n",
       "      <th>56990</th>\n",
       "      <td>0</td>\n",
       "      <td>220</td>\n",
       "      <td>14.0</td>\n",
       "      <td>0</td>\n",
       "      <td>0</td>\n",
       "      <td>0</td>\n",
       "      <td>1</td>\n",
       "    </tr>\n",
       "    <tr>\n",
       "      <th>43733</th>\n",
       "      <td>0</td>\n",
       "      <td>220</td>\n",
       "      <td>6.5</td>\n",
       "      <td>0</td>\n",
       "      <td>0</td>\n",
       "      <td>0</td>\n",
       "      <td>1</td>\n",
       "    </tr>\n",
       "    <tr>\n",
       "      <th>72993</th>\n",
       "      <td>0</td>\n",
       "      <td>220</td>\n",
       "      <td>11.0</td>\n",
       "      <td>1</td>\n",
       "      <td>0</td>\n",
       "      <td>0</td>\n",
       "      <td>0</td>\n",
       "    </tr>\n",
       "    <tr>\n",
       "      <th>56757</th>\n",
       "      <td>0</td>\n",
       "      <td>220</td>\n",
       "      <td>9.5</td>\n",
       "      <td>0</td>\n",
       "      <td>0</td>\n",
       "      <td>1</td>\n",
       "      <td>0</td>\n",
       "    </tr>\n",
       "  </tbody>\n",
       "</table>\n",
       "</div>"
      ],
      "text/plain": [
       "       Brand  Retail Price  Shoe Size  Days_after_release_2 weeks  \\\n",
       "43153      0           220       12.0                           0   \n",
       "56990      0           220       14.0                           0   \n",
       "43733      0           220        6.5                           0   \n",
       "72993      0           220       11.0                           1   \n",
       "56757      0           220        9.5                           0   \n",
       "\n",
       "       Days_after_release_2 months  Days_after_release_1 year  \\\n",
       "43153                            0                          0   \n",
       "56990                            0                          0   \n",
       "43733                            0                          0   \n",
       "72993                            0                          0   \n",
       "56757                            0                          1   \n",
       "\n",
       "       Days_after_release_Over 1 year  \n",
       "43153                               1  \n",
       "56990                               1  \n",
       "43733                               1  \n",
       "72993                               0  \n",
       "56757                               0  "
      ]
     },
     "execution_count": 2,
     "metadata": {},
     "output_type": "execute_result"
    }
   ],
   "source": [
    "#load data\n",
    "X_test = pd.read_csv('X_test', index_col = 0)\n",
    "X_test.head()"
   ]
  },
  {
   "cell_type": "code",
   "execution_count": 3,
   "id": "prescription-phone",
   "metadata": {},
   "outputs": [
    {
     "data": {
      "text/html": [
       "<div>\n",
       "<style scoped>\n",
       "    .dataframe tbody tr th:only-of-type {\n",
       "        vertical-align: middle;\n",
       "    }\n",
       "\n",
       "    .dataframe tbody tr th {\n",
       "        vertical-align: top;\n",
       "    }\n",
       "\n",
       "    .dataframe thead th {\n",
       "        text-align: right;\n",
       "    }\n",
       "</style>\n",
       "<table border=\"1\" class=\"dataframe\">\n",
       "  <thead>\n",
       "    <tr style=\"text-align: right;\">\n",
       "      <th></th>\n",
       "      <th>Brand</th>\n",
       "      <th>Retail Price</th>\n",
       "      <th>Shoe Size</th>\n",
       "      <th>Days_after_release_2 weeks</th>\n",
       "      <th>Days_after_release_2 months</th>\n",
       "      <th>Days_after_release_1 year</th>\n",
       "      <th>Days_after_release_Over 1 year</th>\n",
       "    </tr>\n",
       "  </thead>\n",
       "  <tbody>\n",
       "    <tr>\n",
       "      <th>33563</th>\n",
       "      <td>0</td>\n",
       "      <td>220</td>\n",
       "      <td>4.0</td>\n",
       "      <td>0</td>\n",
       "      <td>1</td>\n",
       "      <td>0</td>\n",
       "      <td>0</td>\n",
       "    </tr>\n",
       "    <tr>\n",
       "      <th>16149</th>\n",
       "      <td>0</td>\n",
       "      <td>220</td>\n",
       "      <td>11.0</td>\n",
       "      <td>0</td>\n",
       "      <td>0</td>\n",
       "      <td>1</td>\n",
       "      <td>0</td>\n",
       "    </tr>\n",
       "    <tr>\n",
       "      <th>62696</th>\n",
       "      <td>0</td>\n",
       "      <td>220</td>\n",
       "      <td>11.0</td>\n",
       "      <td>1</td>\n",
       "      <td>0</td>\n",
       "      <td>0</td>\n",
       "      <td>0</td>\n",
       "    </tr>\n",
       "    <tr>\n",
       "      <th>22918</th>\n",
       "      <td>0</td>\n",
       "      <td>220</td>\n",
       "      <td>10.0</td>\n",
       "      <td>0</td>\n",
       "      <td>0</td>\n",
       "      <td>0</td>\n",
       "      <td>1</td>\n",
       "    </tr>\n",
       "    <tr>\n",
       "      <th>57554</th>\n",
       "      <td>0</td>\n",
       "      <td>220</td>\n",
       "      <td>12.0</td>\n",
       "      <td>0</td>\n",
       "      <td>0</td>\n",
       "      <td>0</td>\n",
       "      <td>1</td>\n",
       "    </tr>\n",
       "  </tbody>\n",
       "</table>\n",
       "</div>"
      ],
      "text/plain": [
       "       Brand  Retail Price  Shoe Size  Days_after_release_2 weeks  \\\n",
       "33563      0           220        4.0                           0   \n",
       "16149      0           220       11.0                           0   \n",
       "62696      0           220       11.0                           1   \n",
       "22918      0           220       10.0                           0   \n",
       "57554      0           220       12.0                           0   \n",
       "\n",
       "       Days_after_release_2 months  Days_after_release_1 year  \\\n",
       "33563                            1                          0   \n",
       "16149                            0                          1   \n",
       "62696                            0                          0   \n",
       "22918                            0                          0   \n",
       "57554                            0                          0   \n",
       "\n",
       "       Days_after_release_Over 1 year  \n",
       "33563                               0  \n",
       "16149                               0  \n",
       "62696                               0  \n",
       "22918                               1  \n",
       "57554                               1  "
      ]
     },
     "execution_count": 3,
     "metadata": {},
     "output_type": "execute_result"
    }
   ],
   "source": [
    "X_train = pd.read_csv('X_train', index_col=0)\n",
    "X_train.head()"
   ]
  },
  {
   "cell_type": "code",
   "execution_count": 4,
   "id": "chicken-personality",
   "metadata": {},
   "outputs": [
    {
     "data": {
      "text/html": [
       "<div>\n",
       "<style scoped>\n",
       "    .dataframe tbody tr th:only-of-type {\n",
       "        vertical-align: middle;\n",
       "    }\n",
       "\n",
       "    .dataframe tbody tr th {\n",
       "        vertical-align: top;\n",
       "    }\n",
       "\n",
       "    .dataframe thead th {\n",
       "        text-align: right;\n",
       "    }\n",
       "</style>\n",
       "<table border=\"1\" class=\"dataframe\">\n",
       "  <thead>\n",
       "    <tr style=\"text-align: right;\">\n",
       "      <th></th>\n",
       "      <th>ROI</th>\n",
       "    </tr>\n",
       "  </thead>\n",
       "  <tbody>\n",
       "    <tr>\n",
       "      <th>33563</th>\n",
       "      <td>9.09</td>\n",
       "    </tr>\n",
       "    <tr>\n",
       "      <th>16149</th>\n",
       "      <td>80.45</td>\n",
       "    </tr>\n",
       "    <tr>\n",
       "      <th>62696</th>\n",
       "      <td>18.18</td>\n",
       "    </tr>\n",
       "    <tr>\n",
       "      <th>22918</th>\n",
       "      <td>156.82</td>\n",
       "    </tr>\n",
       "    <tr>\n",
       "      <th>57554</th>\n",
       "      <td>6.36</td>\n",
       "    </tr>\n",
       "  </tbody>\n",
       "</table>\n",
       "</div>"
      ],
      "text/plain": [
       "          ROI\n",
       "33563    9.09\n",
       "16149   80.45\n",
       "62696   18.18\n",
       "22918  156.82\n",
       "57554    6.36"
      ]
     },
     "execution_count": 4,
     "metadata": {},
     "output_type": "execute_result"
    }
   ],
   "source": [
    "y_train = pd.read_csv('y_train', index_col=0)\n",
    "y_train.head()"
   ]
  },
  {
   "cell_type": "code",
   "execution_count": 5,
   "id": "cellular-amount",
   "metadata": {},
   "outputs": [
    {
     "data": {
      "text/html": [
       "<div>\n",
       "<style scoped>\n",
       "    .dataframe tbody tr th:only-of-type {\n",
       "        vertical-align: middle;\n",
       "    }\n",
       "\n",
       "    .dataframe tbody tr th {\n",
       "        vertical-align: top;\n",
       "    }\n",
       "\n",
       "    .dataframe thead th {\n",
       "        text-align: right;\n",
       "    }\n",
       "</style>\n",
       "<table border=\"1\" class=\"dataframe\">\n",
       "  <thead>\n",
       "    <tr style=\"text-align: right;\">\n",
       "      <th></th>\n",
       "      <th>ROI</th>\n",
       "    </tr>\n",
       "  </thead>\n",
       "  <tbody>\n",
       "    <tr>\n",
       "      <th>43153</th>\n",
       "      <td>27.27</td>\n",
       "    </tr>\n",
       "    <tr>\n",
       "      <th>56990</th>\n",
       "      <td>36.36</td>\n",
       "    </tr>\n",
       "    <tr>\n",
       "      <th>43733</th>\n",
       "      <td>24.55</td>\n",
       "    </tr>\n",
       "    <tr>\n",
       "      <th>72993</th>\n",
       "      <td>28.64</td>\n",
       "    </tr>\n",
       "    <tr>\n",
       "      <th>56757</th>\n",
       "      <td>4.09</td>\n",
       "    </tr>\n",
       "  </tbody>\n",
       "</table>\n",
       "</div>"
      ],
      "text/plain": [
       "         ROI\n",
       "43153  27.27\n",
       "56990  36.36\n",
       "43733  24.55\n",
       "72993  28.64\n",
       "56757   4.09"
      ]
     },
     "execution_count": 5,
     "metadata": {},
     "output_type": "execute_result"
    }
   ],
   "source": [
    "y_test = pd.read_csv('y_test', index_col=0)\n",
    "y_test.head()"
   ]
  },
  {
   "cell_type": "code",
   "execution_count": 6,
   "id": "chief-failing",
   "metadata": {},
   "outputs": [
    {
     "data": {
      "text/html": [
       "<div>\n",
       "<style scoped>\n",
       "    .dataframe tbody tr th:only-of-type {\n",
       "        vertical-align: middle;\n",
       "    }\n",
       "\n",
       "    .dataframe tbody tr th {\n",
       "        vertical-align: top;\n",
       "    }\n",
       "\n",
       "    .dataframe thead th {\n",
       "        text-align: right;\n",
       "    }\n",
       "</style>\n",
       "<table border=\"1\" class=\"dataframe\">\n",
       "  <thead>\n",
       "    <tr style=\"text-align: right;\">\n",
       "      <th></th>\n",
       "      <th>Brand</th>\n",
       "      <th>Retail Price</th>\n",
       "      <th>Shoe Size</th>\n",
       "      <th>Days_after_release_2 weeks</th>\n",
       "      <th>Days_after_release_2 months</th>\n",
       "      <th>Days_after_release_1 year</th>\n",
       "      <th>Days_after_release_Over 1 year</th>\n",
       "    </tr>\n",
       "  </thead>\n",
       "  <tbody>\n",
       "    <tr>\n",
       "      <th>0</th>\n",
       "      <td>-0.58719</td>\n",
       "      <td>0.424191</td>\n",
       "      <td>-2.279876</td>\n",
       "      <td>-0.525917</td>\n",
       "      <td>1.793618</td>\n",
       "      <td>-0.618583</td>\n",
       "      <td>-0.607326</td>\n",
       "    </tr>\n",
       "    <tr>\n",
       "      <th>1</th>\n",
       "      <td>-0.58719</td>\n",
       "      <td>0.424191</td>\n",
       "      <td>0.720366</td>\n",
       "      <td>-0.525917</td>\n",
       "      <td>-0.557532</td>\n",
       "      <td>1.616597</td>\n",
       "      <td>-0.607326</td>\n",
       "    </tr>\n",
       "    <tr>\n",
       "      <th>2</th>\n",
       "      <td>-0.58719</td>\n",
       "      <td>0.424191</td>\n",
       "      <td>0.720366</td>\n",
       "      <td>1.901441</td>\n",
       "      <td>-0.557532</td>\n",
       "      <td>-0.618583</td>\n",
       "      <td>-0.607326</td>\n",
       "    </tr>\n",
       "    <tr>\n",
       "      <th>3</th>\n",
       "      <td>-0.58719</td>\n",
       "      <td>0.424191</td>\n",
       "      <td>0.291760</td>\n",
       "      <td>-0.525917</td>\n",
       "      <td>-0.557532</td>\n",
       "      <td>-0.618583</td>\n",
       "      <td>1.646562</td>\n",
       "    </tr>\n",
       "    <tr>\n",
       "      <th>4</th>\n",
       "      <td>-0.58719</td>\n",
       "      <td>0.424191</td>\n",
       "      <td>1.148972</td>\n",
       "      <td>-0.525917</td>\n",
       "      <td>-0.557532</td>\n",
       "      <td>-0.618583</td>\n",
       "      <td>1.646562</td>\n",
       "    </tr>\n",
       "  </tbody>\n",
       "</table>\n",
       "</div>"
      ],
      "text/plain": [
       "     Brand  Retail Price  Shoe Size  Days_after_release_2 weeks  \\\n",
       "0 -0.58719      0.424191  -2.279876                   -0.525917   \n",
       "1 -0.58719      0.424191   0.720366                   -0.525917   \n",
       "2 -0.58719      0.424191   0.720366                    1.901441   \n",
       "3 -0.58719      0.424191   0.291760                   -0.525917   \n",
       "4 -0.58719      0.424191   1.148972                   -0.525917   \n",
       "\n",
       "   Days_after_release_2 months  Days_after_release_1 year  \\\n",
       "0                     1.793618                  -0.618583   \n",
       "1                    -0.557532                   1.616597   \n",
       "2                    -0.557532                  -0.618583   \n",
       "3                    -0.557532                  -0.618583   \n",
       "4                    -0.557532                  -0.618583   \n",
       "\n",
       "   Days_after_release_Over 1 year  \n",
       "0                       -0.607326  \n",
       "1                       -0.607326  \n",
       "2                       -0.607326  \n",
       "3                        1.646562  \n",
       "4                        1.646562  "
      ]
     },
     "execution_count": 6,
     "metadata": {},
     "output_type": "execute_result"
    }
   ],
   "source": [
    "X_train_scaled = pd.read_csv('X_train_scaled', index_col=0)\n",
    "X_train_scaled.head()"
   ]
  },
  {
   "cell_type": "code",
   "execution_count": 7,
   "id": "junior-cutting",
   "metadata": {},
   "outputs": [
    {
     "data": {
      "text/html": [
       "<div>\n",
       "<style scoped>\n",
       "    .dataframe tbody tr th:only-of-type {\n",
       "        vertical-align: middle;\n",
       "    }\n",
       "\n",
       "    .dataframe tbody tr th {\n",
       "        vertical-align: top;\n",
       "    }\n",
       "\n",
       "    .dataframe thead th {\n",
       "        text-align: right;\n",
       "    }\n",
       "</style>\n",
       "<table border=\"1\" class=\"dataframe\">\n",
       "  <thead>\n",
       "    <tr style=\"text-align: right;\">\n",
       "      <th></th>\n",
       "      <th>Brand</th>\n",
       "      <th>Retail Price</th>\n",
       "      <th>Shoe Size</th>\n",
       "      <th>Days_after_release_2 weeks</th>\n",
       "      <th>Days_after_release_2 months</th>\n",
       "      <th>Days_after_release_1 year</th>\n",
       "      <th>Days_after_release_Over 1 year</th>\n",
       "    </tr>\n",
       "  </thead>\n",
       "  <tbody>\n",
       "    <tr>\n",
       "      <th>0</th>\n",
       "      <td>-0.58719</td>\n",
       "      <td>0.424191</td>\n",
       "      <td>1.148972</td>\n",
       "      <td>-0.525917</td>\n",
       "      <td>-0.557532</td>\n",
       "      <td>-0.618583</td>\n",
       "      <td>1.646562</td>\n",
       "    </tr>\n",
       "    <tr>\n",
       "      <th>1</th>\n",
       "      <td>-0.58719</td>\n",
       "      <td>0.424191</td>\n",
       "      <td>2.006184</td>\n",
       "      <td>-0.525917</td>\n",
       "      <td>-0.557532</td>\n",
       "      <td>-0.618583</td>\n",
       "      <td>1.646562</td>\n",
       "    </tr>\n",
       "    <tr>\n",
       "      <th>2</th>\n",
       "      <td>-0.58719</td>\n",
       "      <td>0.424191</td>\n",
       "      <td>-1.208361</td>\n",
       "      <td>-0.525917</td>\n",
       "      <td>-0.557532</td>\n",
       "      <td>-0.618583</td>\n",
       "      <td>1.646562</td>\n",
       "    </tr>\n",
       "    <tr>\n",
       "      <th>3</th>\n",
       "      <td>-0.58719</td>\n",
       "      <td>0.424191</td>\n",
       "      <td>0.720366</td>\n",
       "      <td>1.901441</td>\n",
       "      <td>-0.557532</td>\n",
       "      <td>-0.618583</td>\n",
       "      <td>-0.607326</td>\n",
       "    </tr>\n",
       "    <tr>\n",
       "      <th>4</th>\n",
       "      <td>-0.58719</td>\n",
       "      <td>0.424191</td>\n",
       "      <td>0.077457</td>\n",
       "      <td>-0.525917</td>\n",
       "      <td>-0.557532</td>\n",
       "      <td>1.616597</td>\n",
       "      <td>-0.607326</td>\n",
       "    </tr>\n",
       "  </tbody>\n",
       "</table>\n",
       "</div>"
      ],
      "text/plain": [
       "     Brand  Retail Price  Shoe Size  Days_after_release_2 weeks  \\\n",
       "0 -0.58719      0.424191   1.148972                   -0.525917   \n",
       "1 -0.58719      0.424191   2.006184                   -0.525917   \n",
       "2 -0.58719      0.424191  -1.208361                   -0.525917   \n",
       "3 -0.58719      0.424191   0.720366                    1.901441   \n",
       "4 -0.58719      0.424191   0.077457                   -0.525917   \n",
       "\n",
       "   Days_after_release_2 months  Days_after_release_1 year  \\\n",
       "0                    -0.557532                  -0.618583   \n",
       "1                    -0.557532                  -0.618583   \n",
       "2                    -0.557532                  -0.618583   \n",
       "3                    -0.557532                  -0.618583   \n",
       "4                    -0.557532                   1.616597   \n",
       "\n",
       "   Days_after_release_Over 1 year  \n",
       "0                        1.646562  \n",
       "1                        1.646562  \n",
       "2                        1.646562  \n",
       "3                       -0.607326  \n",
       "4                       -0.607326  "
      ]
     },
     "execution_count": 7,
     "metadata": {},
     "output_type": "execute_result"
    }
   ],
   "source": [
    "X_test_scaled = pd.read_csv('X_test_scaled', index_col=0)\n",
    "X_test_scaled.head()"
   ]
  },
  {
   "cell_type": "code",
   "execution_count": 8,
   "id": "quiet-identification",
   "metadata": {},
   "outputs": [
    {
     "data": {
      "text/html": [
       "<div>\n",
       "<style scoped>\n",
       "    .dataframe tbody tr th:only-of-type {\n",
       "        vertical-align: middle;\n",
       "    }\n",
       "\n",
       "    .dataframe tbody tr th {\n",
       "        vertical-align: top;\n",
       "    }\n",
       "\n",
       "    .dataframe thead th {\n",
       "        text-align: right;\n",
       "    }\n",
       "</style>\n",
       "<table border=\"1\" class=\"dataframe\">\n",
       "  <thead>\n",
       "    <tr style=\"text-align: right;\">\n",
       "      <th></th>\n",
       "      <th>Brand</th>\n",
       "      <th>Retail Price</th>\n",
       "      <th>Shoe Size</th>\n",
       "      <th>Days_after_release_2 weeks</th>\n",
       "      <th>Days_after_release_2 months</th>\n",
       "      <th>Days_after_release_1 year</th>\n",
       "      <th>Days_after_release_Over 1 year</th>\n",
       "    </tr>\n",
       "  </thead>\n",
       "  <tbody>\n",
       "    <tr>\n",
       "      <th>0</th>\n",
       "      <td>0.0</td>\n",
       "      <td>0.75</td>\n",
       "      <td>0.037037</td>\n",
       "      <td>0.0</td>\n",
       "      <td>1.0</td>\n",
       "      <td>0.0</td>\n",
       "      <td>0.0</td>\n",
       "    </tr>\n",
       "    <tr>\n",
       "      <th>1</th>\n",
       "      <td>0.0</td>\n",
       "      <td>0.75</td>\n",
       "      <td>0.555556</td>\n",
       "      <td>0.0</td>\n",
       "      <td>0.0</td>\n",
       "      <td>1.0</td>\n",
       "      <td>0.0</td>\n",
       "    </tr>\n",
       "    <tr>\n",
       "      <th>2</th>\n",
       "      <td>0.0</td>\n",
       "      <td>0.75</td>\n",
       "      <td>0.555556</td>\n",
       "      <td>1.0</td>\n",
       "      <td>0.0</td>\n",
       "      <td>0.0</td>\n",
       "      <td>0.0</td>\n",
       "    </tr>\n",
       "    <tr>\n",
       "      <th>3</th>\n",
       "      <td>0.0</td>\n",
       "      <td>0.75</td>\n",
       "      <td>0.481481</td>\n",
       "      <td>0.0</td>\n",
       "      <td>0.0</td>\n",
       "      <td>0.0</td>\n",
       "      <td>1.0</td>\n",
       "    </tr>\n",
       "    <tr>\n",
       "      <th>4</th>\n",
       "      <td>0.0</td>\n",
       "      <td>0.75</td>\n",
       "      <td>0.629630</td>\n",
       "      <td>0.0</td>\n",
       "      <td>0.0</td>\n",
       "      <td>0.0</td>\n",
       "      <td>1.0</td>\n",
       "    </tr>\n",
       "  </tbody>\n",
       "</table>\n",
       "</div>"
      ],
      "text/plain": [
       "   Brand  Retail Price  Shoe Size  Days_after_release_2 weeks  \\\n",
       "0    0.0          0.75   0.037037                         0.0   \n",
       "1    0.0          0.75   0.555556                         0.0   \n",
       "2    0.0          0.75   0.555556                         1.0   \n",
       "3    0.0          0.75   0.481481                         0.0   \n",
       "4    0.0          0.75   0.629630                         0.0   \n",
       "\n",
       "   Days_after_release_2 months  Days_after_release_1 year  \\\n",
       "0                          1.0                        0.0   \n",
       "1                          0.0                        1.0   \n",
       "2                          0.0                        0.0   \n",
       "3                          0.0                        0.0   \n",
       "4                          0.0                        0.0   \n",
       "\n",
       "   Days_after_release_Over 1 year  \n",
       "0                             0.0  \n",
       "1                             0.0  \n",
       "2                             0.0  \n",
       "3                             1.0  \n",
       "4                             1.0  "
      ]
     },
     "execution_count": 8,
     "metadata": {},
     "output_type": "execute_result"
    }
   ],
   "source": [
    "X_train_mmscaled = pd.read_csv('X_train_mmscaled', index_col=0)\n",
    "X_train_mmscaled.head()"
   ]
  },
  {
   "cell_type": "code",
   "execution_count": 9,
   "id": "mechanical-alignment",
   "metadata": {},
   "outputs": [
    {
     "data": {
      "text/html": [
       "<div>\n",
       "<style scoped>\n",
       "    .dataframe tbody tr th:only-of-type {\n",
       "        vertical-align: middle;\n",
       "    }\n",
       "\n",
       "    .dataframe tbody tr th {\n",
       "        vertical-align: top;\n",
       "    }\n",
       "\n",
       "    .dataframe thead th {\n",
       "        text-align: right;\n",
       "    }\n",
       "</style>\n",
       "<table border=\"1\" class=\"dataframe\">\n",
       "  <thead>\n",
       "    <tr style=\"text-align: right;\">\n",
       "      <th></th>\n",
       "      <th>Brand</th>\n",
       "      <th>Retail Price</th>\n",
       "      <th>Shoe Size</th>\n",
       "      <th>Days_after_release_2 weeks</th>\n",
       "      <th>Days_after_release_2 months</th>\n",
       "      <th>Days_after_release_1 year</th>\n",
       "      <th>Days_after_release_Over 1 year</th>\n",
       "    </tr>\n",
       "  </thead>\n",
       "  <tbody>\n",
       "    <tr>\n",
       "      <th>0</th>\n",
       "      <td>0.0</td>\n",
       "      <td>0.75</td>\n",
       "      <td>0.629630</td>\n",
       "      <td>0.0</td>\n",
       "      <td>0.0</td>\n",
       "      <td>0.0</td>\n",
       "      <td>1.0</td>\n",
       "    </tr>\n",
       "    <tr>\n",
       "      <th>1</th>\n",
       "      <td>0.0</td>\n",
       "      <td>0.75</td>\n",
       "      <td>0.777778</td>\n",
       "      <td>0.0</td>\n",
       "      <td>0.0</td>\n",
       "      <td>0.0</td>\n",
       "      <td>1.0</td>\n",
       "    </tr>\n",
       "    <tr>\n",
       "      <th>2</th>\n",
       "      <td>0.0</td>\n",
       "      <td>0.75</td>\n",
       "      <td>0.222222</td>\n",
       "      <td>0.0</td>\n",
       "      <td>0.0</td>\n",
       "      <td>0.0</td>\n",
       "      <td>1.0</td>\n",
       "    </tr>\n",
       "    <tr>\n",
       "      <th>3</th>\n",
       "      <td>0.0</td>\n",
       "      <td>0.75</td>\n",
       "      <td>0.555556</td>\n",
       "      <td>1.0</td>\n",
       "      <td>0.0</td>\n",
       "      <td>0.0</td>\n",
       "      <td>0.0</td>\n",
       "    </tr>\n",
       "    <tr>\n",
       "      <th>4</th>\n",
       "      <td>0.0</td>\n",
       "      <td>0.75</td>\n",
       "      <td>0.444444</td>\n",
       "      <td>0.0</td>\n",
       "      <td>0.0</td>\n",
       "      <td>1.0</td>\n",
       "      <td>0.0</td>\n",
       "    </tr>\n",
       "  </tbody>\n",
       "</table>\n",
       "</div>"
      ],
      "text/plain": [
       "   Brand  Retail Price  Shoe Size  Days_after_release_2 weeks  \\\n",
       "0    0.0          0.75   0.629630                         0.0   \n",
       "1    0.0          0.75   0.777778                         0.0   \n",
       "2    0.0          0.75   0.222222                         0.0   \n",
       "3    0.0          0.75   0.555556                         1.0   \n",
       "4    0.0          0.75   0.444444                         0.0   \n",
       "\n",
       "   Days_after_release_2 months  Days_after_release_1 year  \\\n",
       "0                          0.0                        0.0   \n",
       "1                          0.0                        0.0   \n",
       "2                          0.0                        0.0   \n",
       "3                          0.0                        0.0   \n",
       "4                          0.0                        1.0   \n",
       "\n",
       "   Days_after_release_Over 1 year  \n",
       "0                             1.0  \n",
       "1                             1.0  \n",
       "2                             1.0  \n",
       "3                             0.0  \n",
       "4                             0.0  "
      ]
     },
     "execution_count": 9,
     "metadata": {},
     "output_type": "execute_result"
    }
   ],
   "source": [
    "X_test_mmscaled = pd.read_csv('X_test_mmscaled', index_col=0)\n",
    "X_test_mmscaled.head()"
   ]
  },
  {
   "cell_type": "code",
   "execution_count": 10,
   "id": "gentle-shoulder",
   "metadata": {},
   "outputs": [
    {
     "data": {
      "text/html": [
       "<div>\n",
       "<style scoped>\n",
       "    .dataframe tbody tr th:only-of-type {\n",
       "        vertical-align: middle;\n",
       "    }\n",
       "\n",
       "    .dataframe tbody tr th {\n",
       "        vertical-align: top;\n",
       "    }\n",
       "\n",
       "    .dataframe thead th {\n",
       "        text-align: right;\n",
       "    }\n",
       "</style>\n",
       "<table border=\"1\" class=\"dataframe\">\n",
       "  <thead>\n",
       "    <tr style=\"text-align: right;\">\n",
       "      <th></th>\n",
       "      <th>ROI</th>\n",
       "    </tr>\n",
       "  </thead>\n",
       "  <tbody>\n",
       "    <tr>\n",
       "      <th>0</th>\n",
       "      <td>-1.214983</td>\n",
       "    </tr>\n",
       "    <tr>\n",
       "      <th>1</th>\n",
       "      <td>0.032613</td>\n",
       "    </tr>\n",
       "    <tr>\n",
       "      <th>2</th>\n",
       "      <td>-0.916820</td>\n",
       "    </tr>\n",
       "    <tr>\n",
       "      <th>3</th>\n",
       "      <td>0.639804</td>\n",
       "    </tr>\n",
       "    <tr>\n",
       "      <th>4</th>\n",
       "      <td>-1.340153</td>\n",
       "    </tr>\n",
       "  </tbody>\n",
       "</table>\n",
       "</div>"
      ],
      "text/plain": [
       "        ROI\n",
       "0 -1.214983\n",
       "1  0.032613\n",
       "2 -0.916820\n",
       "3  0.639804\n",
       "4 -1.340153"
      ]
     },
     "execution_count": 10,
     "metadata": {},
     "output_type": "execute_result"
    }
   ],
   "source": [
    "y_train_trans = pd.read_csv('y_train_trans', index_col=0)\n",
    "y_train_trans.head()"
   ]
  },
  {
   "cell_type": "code",
   "execution_count": 11,
   "id": "equipped-rating",
   "metadata": {},
   "outputs": [
    {
     "data": {
      "text/html": [
       "<div>\n",
       "<style scoped>\n",
       "    .dataframe tbody tr th:only-of-type {\n",
       "        vertical-align: middle;\n",
       "    }\n",
       "\n",
       "    .dataframe tbody tr th {\n",
       "        vertical-align: top;\n",
       "    }\n",
       "\n",
       "    .dataframe thead th {\n",
       "        text-align: right;\n",
       "    }\n",
       "</style>\n",
       "<table border=\"1\" class=\"dataframe\">\n",
       "  <thead>\n",
       "    <tr style=\"text-align: right;\">\n",
       "      <th></th>\n",
       "      <th>ROI</th>\n",
       "    </tr>\n",
       "  </thead>\n",
       "  <tbody>\n",
       "    <tr>\n",
       "      <th>0</th>\n",
       "      <td>-0.704178</td>\n",
       "    </tr>\n",
       "    <tr>\n",
       "      <th>1</th>\n",
       "      <td>-0.533926</td>\n",
       "    </tr>\n",
       "    <tr>\n",
       "      <th>2</th>\n",
       "      <td>-0.762239</td>\n",
       "    </tr>\n",
       "    <tr>\n",
       "      <th>3</th>\n",
       "      <td>-0.676355</td>\n",
       "    </tr>\n",
       "    <tr>\n",
       "      <th>4</th>\n",
       "      <td>-1.471094</td>\n",
       "    </tr>\n",
       "  </tbody>\n",
       "</table>\n",
       "</div>"
      ],
      "text/plain": [
       "        ROI\n",
       "0 -0.704178\n",
       "1 -0.533926\n",
       "2 -0.762239\n",
       "3 -0.676355\n",
       "4 -1.471094"
      ]
     },
     "execution_count": 11,
     "metadata": {},
     "output_type": "execute_result"
    }
   ],
   "source": [
    "y_test_trans = pd.read_csv('y_test_trans', index_col=0)\n",
    "y_test_trans.head()"
   ]
  },
  {
   "cell_type": "code",
   "execution_count": 12,
   "id": "proprietary-lobby",
   "metadata": {},
   "outputs": [],
   "source": [
    "#Linear regression on original train test split\n",
    "lm = LinearRegression()\n",
    "lm.fit(X_train, y_train)\n",
    "y_tr_pred = lm.predict(X_train)\n",
    "y_te_pred = lm.predict(X_test)"
   ]
  },
  {
   "cell_type": "code",
   "execution_count": 13,
   "id": "equivalent-nudist",
   "metadata": {},
   "outputs": [
    {
     "data": {
      "text/plain": [
       "(0.4445537993455373, 0.4572974859044415)"
      ]
     },
     "execution_count": 13,
     "metadata": {},
     "output_type": "execute_result"
    }
   ],
   "source": [
    "#Calculate r2 score\n",
    "r2_score(y_train, y_tr_pred), r2_score(y_test, y_te_pred)"
   ]
  },
  {
   "cell_type": "code",
   "execution_count": 14,
   "id": "horizontal-sport",
   "metadata": {},
   "outputs": [
    {
     "data": {
      "text/plain": [
       "(64.58707089388666, 63.35553292198205)"
      ]
     },
     "execution_count": 14,
     "metadata": {},
     "output_type": "execute_result"
    }
   ],
   "source": [
    "#Calculate MAE\n",
    "mean_absolute_error(y_train, y_tr_pred), mean_absolute_error(y_test, y_te_pred)"
   ]
  },
  {
   "cell_type": "code",
   "execution_count": 15,
   "id": "decent-threshold",
   "metadata": {},
   "outputs": [
    {
     "data": {
      "text/plain": [
       "(12160.829932794784, 11781.241724178282)"
      ]
     },
     "execution_count": 15,
     "metadata": {},
     "output_type": "execute_result"
    }
   ],
   "source": [
    "#Calculate MSE\n",
    "mean_squared_error(y_train, y_tr_pred), mean_squared_error(y_test, y_te_pred)"
   ]
  },
  {
   "cell_type": "code",
   "execution_count": 16,
   "id": "municipal-antarctica",
   "metadata": {},
   "outputs": [
    {
     "name": "stderr",
     "output_type": "stream",
     "text": [
      "/opt/miniconda3/envs/conda_env/lib/python3.7/site-packages/ipykernel_launcher.py:3: DataConversionWarning: A column-vector y was passed when a 1d array was expected. Please change the shape of y to (n_samples,), for example using ravel().\n",
      "  This is separate from the ipykernel package so we can avoid doing imports until\n"
     ]
    }
   ],
   "source": [
    "#Random forest on original train test split\n",
    "rf = RandomForestRegressor(random_state=350)\n",
    "rf.fit(X_train, y_train)\n",
    "y_tr_pred_rf = rf.predict(X_train)\n",
    "y_te_pred_rf = rf.predict(X_test)"
   ]
  },
  {
   "cell_type": "code",
   "execution_count": 17,
   "id": "controlling-mouth",
   "metadata": {},
   "outputs": [
    {
     "data": {
      "text/plain": [
       "(0.6923066313808448, 0.6721673569048686)"
      ]
     },
     "execution_count": 17,
     "metadata": {},
     "output_type": "execute_result"
    }
   ],
   "source": [
    "r2_score(y_train, y_tr_pred_rf), r2_score(y_test, y_te_pred_rf)"
   ]
  },
  {
   "cell_type": "code",
   "execution_count": 18,
   "id": "ideal-ecology",
   "metadata": {},
   "outputs": [
    {
     "data": {
      "text/plain": [
       "(49.74791442906202, 50.276368003732145)"
      ]
     },
     "execution_count": 18,
     "metadata": {},
     "output_type": "execute_result"
    }
   ],
   "source": [
    "mean_absolute_error(y_train, y_tr_pred_rf), mean_absolute_error(y_test, y_te_pred_rf)"
   ]
  },
  {
   "cell_type": "code",
   "execution_count": 19,
   "id": "royal-cooling",
   "metadata": {},
   "outputs": [
    {
     "data": {
      "text/plain": [
       "(6736.5781291103285, 7116.74538640509)"
      ]
     },
     "execution_count": 19,
     "metadata": {},
     "output_type": "execute_result"
    }
   ],
   "source": [
    "mean_squared_error(y_train, y_tr_pred_rf), mean_squared_error(y_test, y_te_pred_rf)"
   ]
  },
  {
   "cell_type": "code",
   "execution_count": 20,
   "id": "technological-reach",
   "metadata": {},
   "outputs": [
    {
     "name": "stderr",
     "output_type": "stream",
     "text": [
      "/opt/miniconda3/envs/conda_env/lib/python3.7/site-packages/ipykernel_launcher.py:4: DataConversionWarning: A column-vector y was passed when a 1d array was expected. Please change the shape of y to (n_samples,), for example using ravel().\n",
      "  after removing the cwd from sys.path.\n"
     ]
    }
   ],
   "source": [
    "#Random forest gives us a much better model\n",
    "#Random forest on same X dataset but y transformed\n",
    "rf_log = RandomForestRegressor(random_state=350)\n",
    "rf_log.fit(X_train, y_train_trans)\n",
    "y_tr_pred_rf2 = rf_log.predict(X_train)\n",
    "y_te_pred_rf2 = rf_log.predict(X_test)"
   ]
  },
  {
   "cell_type": "code",
   "execution_count": 21,
   "id": "optical-powell",
   "metadata": {},
   "outputs": [
    {
     "data": {
      "text/plain": [
       "(0.5684322852636348, 0.5732260905245302)"
      ]
     },
     "execution_count": 21,
     "metadata": {},
     "output_type": "execute_result"
    }
   ],
   "source": [
    "r2_score(y_train_trans, y_tr_pred_rf2), r2_score(y_test_trans, y_te_pred_rf2)"
   ]
  },
  {
   "cell_type": "code",
   "execution_count": 22,
   "id": "neutral-wyoming",
   "metadata": {},
   "outputs": [
    {
     "data": {
      "text/plain": [
       "(0.4656890124478775, 0.46523295817225907)"
      ]
     },
     "execution_count": 22,
     "metadata": {},
     "output_type": "execute_result"
    }
   ],
   "source": [
    "mean_absolute_error(y_train_trans, y_tr_pred_rf2), mean_absolute_error(y_test_trans, y_te_pred_rf2)"
   ]
  },
  {
   "cell_type": "code",
   "execution_count": 23,
   "id": "settled-consciousness",
   "metadata": {},
   "outputs": [
    {
     "data": {
      "text/plain": [
       "(0.4315677147363653, 0.4204426961365562)"
      ]
     },
     "execution_count": 23,
     "metadata": {},
     "output_type": "execute_result"
    }
   ],
   "source": [
    "mean_squared_error(y_train_trans, y_tr_pred_rf2), mean_squared_error(y_test_trans, y_te_pred_rf2)"
   ]
  },
  {
   "cell_type": "code",
   "execution_count": 24,
   "id": "suspended-plastic",
   "metadata": {},
   "outputs": [
    {
     "name": "stderr",
     "output_type": "stream",
     "text": [
      "/opt/miniconda3/envs/conda_env/lib/python3.7/site-packages/ipykernel_launcher.py:4: DataConversionWarning: A column-vector y was passed when a 1d array was expected. Please change the shape of y to (n_samples,), for example using ravel().\n",
      "  after removing the cwd from sys.path.\n"
     ]
    }
   ],
   "source": [
    "#Log transformation on our y gives us a worse model\n",
    "#Now we will do random forest on our X scaled data\n",
    "rf2 = RandomForestRegressor(random_state=350)\n",
    "rf2.fit(X_train_scaled, y_train)\n",
    "y_tr_pred_rf3 = rf2.predict(X_train_scaled)\n",
    "y_te_pred_rf3 = rf2.predict(X_test_scaled)"
   ]
  },
  {
   "cell_type": "code",
   "execution_count": 25,
   "id": "protected-entertainment",
   "metadata": {},
   "outputs": [
    {
     "data": {
      "text/plain": [
       "(0.6922895070022033, 0.6720565008961472)"
      ]
     },
     "execution_count": 25,
     "metadata": {},
     "output_type": "execute_result"
    }
   ],
   "source": [
    "r2_score(y_train, y_tr_pred_rf3), r2_score(y_test, y_te_pred_rf3)"
   ]
  },
  {
   "cell_type": "code",
   "execution_count": 26,
   "id": "loose-filename",
   "metadata": {},
   "outputs": [
    {
     "data": {
      "text/plain": [
       "(49.75032396466483, 50.282911352210746)"
      ]
     },
     "execution_count": 26,
     "metadata": {},
     "output_type": "execute_result"
    }
   ],
   "source": [
    "mean_absolute_error(y_train, y_tr_pred_rf3), mean_absolute_error(y_test, y_te_pred_rf3)"
   ]
  },
  {
   "cell_type": "code",
   "execution_count": 27,
   "id": "flexible-driving",
   "metadata": {},
   "outputs": [
    {
     "data": {
      "text/plain": [
       "(6736.95304689016, 7119.151900842382)"
      ]
     },
     "execution_count": 27,
     "metadata": {},
     "output_type": "execute_result"
    }
   ],
   "source": [
    "mean_squared_error(y_train, y_tr_pred_rf3), mean_squared_error(y_test, y_te_pred_rf3)"
   ]
  },
  {
   "cell_type": "code",
   "execution_count": 28,
   "id": "individual-royal",
   "metadata": {},
   "outputs": [
    {
     "name": "stderr",
     "output_type": "stream",
     "text": [
      "/opt/miniconda3/envs/conda_env/lib/python3.7/site-packages/ipykernel_launcher.py:4: DataConversionWarning: A column-vector y was passed when a 1d array was expected. Please change the shape of y to (n_samples,), for example using ravel().\n",
      "  after removing the cwd from sys.path.\n"
     ]
    }
   ],
   "source": [
    "#Results from these are very close to our original model\n",
    "#Random Forest on X minmaxscaled\n",
    "rf3 = RandomForestRegressor(random_state=350)\n",
    "rf3.fit(X_train_mmscaled, y_train)\n",
    "y_tr_pred_rf4 = rf3.predict(X_train_mmscaled)\n",
    "y_te_pred_rf4 = rf3.predict(X_test_mmscaled)"
   ]
  },
  {
   "cell_type": "code",
   "execution_count": 29,
   "id": "periodic-ladder",
   "metadata": {},
   "outputs": [
    {
     "data": {
      "text/plain": [
       "(0.6923070669330642, 0.6721660467323354)"
      ]
     },
     "execution_count": 29,
     "metadata": {},
     "output_type": "execute_result"
    }
   ],
   "source": [
    "r2_score(y_train, y_tr_pred_rf4), r2_score(y_test, y_te_pred_rf4)"
   ]
  },
  {
   "cell_type": "code",
   "execution_count": 30,
   "id": "published-belle",
   "metadata": {},
   "outputs": [
    {
     "data": {
      "text/plain": [
       "(49.74818638758342, 50.27365897945907)"
      ]
     },
     "execution_count": 30,
     "metadata": {},
     "output_type": "execute_result"
    }
   ],
   "source": [
    "mean_absolute_error(y_train, y_tr_pred_rf4), mean_absolute_error(y_test, y_te_pred_rf4)"
   ]
  },
  {
   "cell_type": "code",
   "execution_count": 31,
   "id": "generous-exercise",
   "metadata": {},
   "outputs": [
    {
     "data": {
      "text/plain": [
       "(6736.568593215656, 7116.773828247378)"
      ]
     },
     "execution_count": 31,
     "metadata": {},
     "output_type": "execute_result"
    }
   ],
   "source": [
    "mean_squared_error(y_train, y_tr_pred_rf4), mean_squared_error(y_test, y_te_pred_rf4)"
   ]
  },
  {
   "cell_type": "code",
   "execution_count": 32,
   "id": "infrared-thong",
   "metadata": {},
   "outputs": [
    {
     "name": "stderr",
     "output_type": "stream",
     "text": [
      "/opt/miniconda3/envs/conda_env/lib/python3.7/site-packages/sklearn/model_selection/_validation.py:593: DataConversionWarning: A column-vector y was passed when a 1d array was expected. Please change the shape of y to (n_samples,), for example using ravel().\n",
      "  estimator.fit(X_train, y_train, **fit_params)\n",
      "/opt/miniconda3/envs/conda_env/lib/python3.7/site-packages/sklearn/model_selection/_validation.py:593: DataConversionWarning: A column-vector y was passed when a 1d array was expected. Please change the shape of y to (n_samples,), for example using ravel().\n",
      "  estimator.fit(X_train, y_train, **fit_params)\n",
      "/opt/miniconda3/envs/conda_env/lib/python3.7/site-packages/sklearn/model_selection/_validation.py:593: DataConversionWarning: A column-vector y was passed when a 1d array was expected. Please change the shape of y to (n_samples,), for example using ravel().\n",
      "  estimator.fit(X_train, y_train, **fit_params)\n",
      "/opt/miniconda3/envs/conda_env/lib/python3.7/site-packages/sklearn/model_selection/_validation.py:593: DataConversionWarning: A column-vector y was passed when a 1d array was expected. Please change the shape of y to (n_samples,), for example using ravel().\n",
      "  estimator.fit(X_train, y_train, **fit_params)\n",
      "/opt/miniconda3/envs/conda_env/lib/python3.7/site-packages/sklearn/model_selection/_validation.py:593: DataConversionWarning: A column-vector y was passed when a 1d array was expected. Please change the shape of y to (n_samples,), for example using ravel().\n",
      "  estimator.fit(X_train, y_train, **fit_params)\n"
     ]
    },
    {
     "data": {
      "text/plain": [
       "array([0.68625556, 0.68794617, 0.679621  , 0.67992778, 0.66658878])"
      ]
     },
     "execution_count": 32,
     "metadata": {},
     "output_type": "execute_result"
    }
   ],
   "source": [
    "#Random forest on our original train test split has given us the best model\n",
    "#Assess performance using cross-validation\n",
    "cv_results = cross_validate(rf, X_train, y_train, cv=5)\n",
    "cv_scores = cv_results['test_score']\n",
    "cv_scores"
   ]
  },
  {
   "cell_type": "code",
   "execution_count": 33,
   "id": "established-burst",
   "metadata": {},
   "outputs": [
    {
     "data": {
      "text/plain": [
       "(0.6800678591429711, 0.0075134597579912645)"
      ]
     },
     "execution_count": 33,
     "metadata": {},
     "output_type": "execute_result"
    }
   ],
   "source": [
    "#calculate mean and standard deviation of cv scores\n",
    "np.mean(cv_scores), np.std(cv_scores)"
   ]
  },
  {
   "cell_type": "code",
   "execution_count": 34,
   "id": "scenic-stephen",
   "metadata": {},
   "outputs": [
    {
     "data": {
      "text/plain": [
       "(0.6650409396269885, 0.6950947786589536)"
      ]
     },
     "execution_count": 34,
     "metadata": {},
     "output_type": "execute_result"
    }
   ],
   "source": [
    "#Lower and upper intervals\n",
    "(np.mean(cv_scores) - 2 * np.std(cv_scores), np.mean(cv_scores) + 2 * np.std(cv_scores))"
   ]
  },
  {
   "cell_type": "code",
   "execution_count": 35,
   "id": "associate-multiple",
   "metadata": {},
   "outputs": [
    {
     "name": "stderr",
     "output_type": "stream",
     "text": [
      "/opt/miniconda3/envs/conda_env/lib/python3.7/site-packages/sklearn/model_selection/_validation.py:593: DataConversionWarning: A column-vector y was passed when a 1d array was expected. Please change the shape of y to (n_samples,), for example using ravel().\n",
      "  estimator.fit(X_train, y_train, **fit_params)\n",
      "/opt/miniconda3/envs/conda_env/lib/python3.7/site-packages/sklearn/model_selection/_validation.py:593: DataConversionWarning: A column-vector y was passed when a 1d array was expected. Please change the shape of y to (n_samples,), for example using ravel().\n",
      "  estimator.fit(X_train, y_train, **fit_params)\n",
      "/opt/miniconda3/envs/conda_env/lib/python3.7/site-packages/sklearn/model_selection/_validation.py:593: DataConversionWarning: A column-vector y was passed when a 1d array was expected. Please change the shape of y to (n_samples,), for example using ravel().\n",
      "  estimator.fit(X_train, y_train, **fit_params)\n",
      "/opt/miniconda3/envs/conda_env/lib/python3.7/site-packages/sklearn/model_selection/_validation.py:593: DataConversionWarning: A column-vector y was passed when a 1d array was expected. Please change the shape of y to (n_samples,), for example using ravel().\n",
      "  estimator.fit(X_train, y_train, **fit_params)\n",
      "/opt/miniconda3/envs/conda_env/lib/python3.7/site-packages/sklearn/model_selection/_validation.py:593: DataConversionWarning: A column-vector y was passed when a 1d array was expected. Please change the shape of y to (n_samples,), for example using ravel().\n",
      "  estimator.fit(X_train, y_train, **fit_params)\n"
     ]
    },
    {
     "data": {
      "text/plain": [
       "array([0.68623687, 0.68801341, 0.67912211, 0.68000046, 0.66647882])"
      ]
     },
     "execution_count": 35,
     "metadata": {},
     "output_type": "execute_result"
    }
   ],
   "source": [
    "#Cross validation on rf2\n",
    "cv_results2 = cross_validate(rf2, X_train_scaled, y_train, cv=5)\n",
    "cv_scores2 = cv_results2['test_score']\n",
    "cv_scores2"
   ]
  },
  {
   "cell_type": "code",
   "execution_count": 36,
   "id": "gross-yeast",
   "metadata": {},
   "outputs": [
    {
     "data": {
      "text/plain": [
       "(0.6799703349174442, 0.007572341453053185)"
      ]
     },
     "execution_count": 36,
     "metadata": {},
     "output_type": "execute_result"
    }
   ],
   "source": [
    "np.mean(cv_scores2), np.std(cv_scores2)"
   ]
  },
  {
   "cell_type": "code",
   "execution_count": 37,
   "id": "actual-puzzle",
   "metadata": {},
   "outputs": [
    {
     "data": {
      "text/plain": [
       "(0.6648256520113378, 0.6951150178235506)"
      ]
     },
     "execution_count": 37,
     "metadata": {},
     "output_type": "execute_result"
    }
   ],
   "source": [
    "(np.mean(cv_scores2) - 2 * np.std(cv_scores2), np.mean(cv_scores2) + 2 * np.std(cv_scores2))"
   ]
  },
  {
   "cell_type": "code",
   "execution_count": 38,
   "id": "appropriate-assets",
   "metadata": {},
   "outputs": [
    {
     "name": "stderr",
     "output_type": "stream",
     "text": [
      "/opt/miniconda3/envs/conda_env/lib/python3.7/site-packages/sklearn/model_selection/_validation.py:593: DataConversionWarning: A column-vector y was passed when a 1d array was expected. Please change the shape of y to (n_samples,), for example using ravel().\n",
      "  estimator.fit(X_train, y_train, **fit_params)\n",
      "/opt/miniconda3/envs/conda_env/lib/python3.7/site-packages/sklearn/model_selection/_validation.py:593: DataConversionWarning: A column-vector y was passed when a 1d array was expected. Please change the shape of y to (n_samples,), for example using ravel().\n",
      "  estimator.fit(X_train, y_train, **fit_params)\n",
      "/opt/miniconda3/envs/conda_env/lib/python3.7/site-packages/sklearn/model_selection/_validation.py:593: DataConversionWarning: A column-vector y was passed when a 1d array was expected. Please change the shape of y to (n_samples,), for example using ravel().\n",
      "  estimator.fit(X_train, y_train, **fit_params)\n",
      "/opt/miniconda3/envs/conda_env/lib/python3.7/site-packages/sklearn/model_selection/_validation.py:593: DataConversionWarning: A column-vector y was passed when a 1d array was expected. Please change the shape of y to (n_samples,), for example using ravel().\n",
      "  estimator.fit(X_train, y_train, **fit_params)\n",
      "/opt/miniconda3/envs/conda_env/lib/python3.7/site-packages/sklearn/model_selection/_validation.py:593: DataConversionWarning: A column-vector y was passed when a 1d array was expected. Please change the shape of y to (n_samples,), for example using ravel().\n",
      "  estimator.fit(X_train, y_train, **fit_params)\n"
     ]
    },
    {
     "data": {
      "text/plain": [
       "array([0.68619699, 0.68802872, 0.67966471, 0.67989072, 0.66660473])"
      ]
     },
     "execution_count": 38,
     "metadata": {},
     "output_type": "execute_result"
    }
   ],
   "source": [
    "#CV on rf3\n",
    "cv_results3 = cross_validate(rf3, X_train_mmscaled, y_train, cv=5)\n",
    "cv_scores3 = cv_results3['test_score']\n",
    "cv_scores3"
   ]
  },
  {
   "cell_type": "code",
   "execution_count": 39,
   "id": "broad-reward",
   "metadata": {},
   "outputs": [
    {
     "data": {
      "text/plain": [
       "(0.6800771731379796, 0.0075151979259266)"
      ]
     },
     "execution_count": 39,
     "metadata": {},
     "output_type": "execute_result"
    }
   ],
   "source": [
    "np.mean(cv_scores3), np.std(cv_scores3)"
   ]
  },
  {
   "cell_type": "code",
   "execution_count": 40,
   "id": "gentle-contractor",
   "metadata": {},
   "outputs": [
    {
     "data": {
      "text/plain": [
       "(0.6650467772861264, 0.6951075689898327)"
      ]
     },
     "execution_count": 40,
     "metadata": {},
     "output_type": "execute_result"
    }
   ],
   "source": [
    "(np.mean(cv_scores3) - 2 * np.std(cv_scores3), np.mean(cv_scores3) + 2 * np.std(cv_scores3))"
   ]
  },
  {
   "cell_type": "code",
   "execution_count": 41,
   "id": "driven-concord",
   "metadata": {},
   "outputs": [
    {
     "data": {
      "text/plain": [
       "{'n_estimators': [10,\n",
       "  12,\n",
       "  16,\n",
       "  20,\n",
       "  26,\n",
       "  33,\n",
       "  42,\n",
       "  54,\n",
       "  69,\n",
       "  88,\n",
       "  112,\n",
       "  143,\n",
       "  183,\n",
       "  233,\n",
       "  297,\n",
       "  379,\n",
       "  483,\n",
       "  615,\n",
       "  784,\n",
       "  1000],\n",
       " 'max_features': ['auto', 'sqrt'],\n",
       " 'max_depth': [10, 20, 30, 40, 50, 60, 70, 80, 90, 100, 110, None],\n",
       " 'min_samples_split': [2, 5, 10],\n",
       " 'min_samples_leaf': [1, 2, 4],\n",
       " 'bootstrap': [True, False]}"
      ]
     },
     "execution_count": 41,
     "metadata": {},
     "output_type": "execute_result"
    }
   ],
   "source": [
    "#Hyperparameter search using RandomizedSearchCV\n",
    "\n",
    "#number of trees in random forest\n",
    "n_est = [int(n) for n in np.logspace(start=1, stop=3, num=20)]\n",
    "# Number of features to consider at every split\n",
    "max_features = ['auto', 'sqrt']\n",
    "# Maximum number of levels in tree\n",
    "max_depth = [int(x) for x in np.linspace(10, 110, num = 11)]\n",
    "max_depth.append(None)\n",
    "# Minimum number of samples required to split a node\n",
    "min_samples_split = [2, 5, 10]\n",
    "# Minimum number of samples required at each leaf node\n",
    "min_samples_leaf = [1, 2, 4]\n",
    "# Method of selecting samples for training each tree\n",
    "bootstrap = [True, False]\n",
    "\n",
    "random_grid_params = {\n",
    "        'n_estimators': n_est,\n",
    "        'max_features': max_features,\n",
    "        'max_depth': max_depth,\n",
    "        'min_samples_split': min_samples_split,\n",
    "        'min_samples_leaf': min_samples_leaf,\n",
    "        'bootstrap': bootstrap\n",
    "}\n",
    "random_grid_params"
   ]
  },
  {
   "cell_type": "code",
   "execution_count": 42,
   "id": "hourly-brief",
   "metadata": {},
   "outputs": [],
   "source": [
    "rf_randomsearch_cv = RandomizedSearchCV(rf, param_distributions=random_grid_params, cv=5, n_jobs=-1)"
   ]
  },
  {
   "cell_type": "code",
   "execution_count": 43,
   "id": "concrete-complexity",
   "metadata": {},
   "outputs": [
    {
     "name": "stderr",
     "output_type": "stream",
     "text": [
      "/opt/miniconda3/envs/conda_env/lib/python3.7/site-packages/sklearn/model_selection/_search.py:880: DataConversionWarning: A column-vector y was passed when a 1d array was expected. Please change the shape of y to (n_samples,), for example using ravel().\n",
      "  self.best_estimator_.fit(X, y, **fit_params)\n"
     ]
    },
    {
     "data": {
      "text/plain": [
       "RandomizedSearchCV(cv=5, estimator=RandomForestRegressor(random_state=350),\n",
       "                   n_jobs=-1,\n",
       "                   param_distributions={'bootstrap': [True, False],\n",
       "                                        'max_depth': [10, 20, 30, 40, 50, 60,\n",
       "                                                      70, 80, 90, 100, 110,\n",
       "                                                      None],\n",
       "                                        'max_features': ['auto', 'sqrt'],\n",
       "                                        'min_samples_leaf': [1, 2, 4],\n",
       "                                        'min_samples_split': [2, 5, 10],\n",
       "                                        'n_estimators': [10, 12, 16, 20, 26, 33,\n",
       "                                                         42, 54, 69, 88, 112,\n",
       "                                                         143, 183, 233, 297,\n",
       "                                                         379, 483, 615, 784,\n",
       "                                                         1000]})"
      ]
     },
     "execution_count": 43,
     "metadata": {},
     "output_type": "execute_result"
    }
   ],
   "source": [
    "rf_randomsearch_cv.fit(X_train, y_train)"
   ]
  },
  {
   "cell_type": "code",
   "execution_count": 44,
   "id": "athletic-acceptance",
   "metadata": {},
   "outputs": [
    {
     "data": {
      "text/plain": [
       "{'n_estimators': 16,\n",
       " 'min_samples_split': 5,\n",
       " 'min_samples_leaf': 4,\n",
       " 'max_features': 'auto',\n",
       " 'max_depth': 30,\n",
       " 'bootstrap': True}"
      ]
     },
     "execution_count": 44,
     "metadata": {},
     "output_type": "execute_result"
    }
   ],
   "source": [
    "rf_randomsearch_cv.best_params_"
   ]
  },
  {
   "cell_type": "code",
   "execution_count": 45,
   "id": "driven-voluntary",
   "metadata": {},
   "outputs": [
    {
     "name": "stderr",
     "output_type": "stream",
     "text": [
      "/opt/miniconda3/envs/conda_env/lib/python3.7/site-packages/sklearn/model_selection/_validation.py:593: DataConversionWarning: A column-vector y was passed when a 1d array was expected. Please change the shape of y to (n_samples,), for example using ravel().\n",
      "  estimator.fit(X_train, y_train, **fit_params)\n",
      "/opt/miniconda3/envs/conda_env/lib/python3.7/site-packages/sklearn/model_selection/_validation.py:593: DataConversionWarning: A column-vector y was passed when a 1d array was expected. Please change the shape of y to (n_samples,), for example using ravel().\n",
      "  estimator.fit(X_train, y_train, **fit_params)\n",
      "/opt/miniconda3/envs/conda_env/lib/python3.7/site-packages/sklearn/model_selection/_validation.py:593: DataConversionWarning: A column-vector y was passed when a 1d array was expected. Please change the shape of y to (n_samples,), for example using ravel().\n",
      "  estimator.fit(X_train, y_train, **fit_params)\n",
      "/opt/miniconda3/envs/conda_env/lib/python3.7/site-packages/sklearn/model_selection/_validation.py:593: DataConversionWarning: A column-vector y was passed when a 1d array was expected. Please change the shape of y to (n_samples,), for example using ravel().\n",
      "  estimator.fit(X_train, y_train, **fit_params)\n",
      "/opt/miniconda3/envs/conda_env/lib/python3.7/site-packages/sklearn/model_selection/_validation.py:593: DataConversionWarning: A column-vector y was passed when a 1d array was expected. Please change the shape of y to (n_samples,), for example using ravel().\n",
      "  estimator.fit(X_train, y_train, **fit_params)\n"
     ]
    },
    {
     "data": {
      "text/plain": [
       "array([0.68928095, 0.68968313, 0.68047513, 0.67870592, 0.66702626])"
      ]
     },
     "execution_count": 45,
     "metadata": {},
     "output_type": "execute_result"
    }
   ],
   "source": [
    "rf_best_cv_results = cross_validate(rf_randomsearch_cv.best_estimator_, X_train, y_train, cv=5)\n",
    "rf_best_scores = rf_best_cv_results['test_score']\n",
    "rf_best_scores"
   ]
  },
  {
   "cell_type": "code",
   "execution_count": 46,
   "id": "anticipated-seafood",
   "metadata": {},
   "outputs": [
    {
     "data": {
      "text/plain": [
       "(0.6810342767602345, 0.008303840421356982)"
      ]
     },
     "execution_count": 46,
     "metadata": {},
     "output_type": "execute_result"
    }
   ],
   "source": [
    "np.mean(rf_best_scores), np.std(rf_best_scores)"
   ]
  },
  {
   "cell_type": "code",
   "execution_count": 47,
   "id": "aquatic-banks",
   "metadata": {},
   "outputs": [
    {
     "data": {
      "text/plain": [
       "(0.6644265959175206, 0.6976419576029484)"
      ]
     },
     "execution_count": 47,
     "metadata": {},
     "output_type": "execute_result"
    }
   ],
   "source": [
    "(np.mean(rf_best_scores) - 2 * np.std(rf_best_scores), np.mean(rf_best_scores) + 2 * np.std(rf_best_scores))"
   ]
  },
  {
   "cell_type": "code",
   "execution_count": 48,
   "id": "union-colors",
   "metadata": {},
   "outputs": [],
   "source": [
    "#Best model\n",
    "model = rf_randomsearch_cv.best_estimator_\n",
    "rf_neg_mae = cross_validate(model, X_train, y_train, \n",
    "                            scoring='neg_mean_absolute_error', cv=5, n_jobs=-1)"
   ]
  },
  {
   "cell_type": "code",
   "execution_count": 49,
   "id": "logical-refund",
   "metadata": {},
   "outputs": [
    {
     "data": {
      "text/plain": [
       "(50.392425360218894, 0.466140518102123)"
      ]
     },
     "execution_count": 49,
     "metadata": {},
     "output_type": "execute_result"
    }
   ],
   "source": [
    "#average and standard deviation of MAE\n",
    "rf_mae_mean = np.mean(-1 * rf_neg_mae['test_score'])\n",
    "rf_mae_std = np.std(-1 * rf_neg_mae['test_score'])\n",
    "rf_mae_mean, rf_mae_std"
   ]
  },
  {
   "cell_type": "code",
   "execution_count": 50,
   "id": "burning-complexity",
   "metadata": {},
   "outputs": [
    {
     "data": {
      "text/plain": [
       "50.267884283558004"
      ]
     },
     "execution_count": 50,
     "metadata": {},
     "output_type": "execute_result"
    }
   ],
   "source": [
    "mean_absolute_error(y_test, model.predict(X_test))"
   ]
  },
  {
   "cell_type": "code",
   "execution_count": 51,
   "id": "standard-provision",
   "metadata": {},
   "outputs": [
    {
     "data": {
      "text/html": [
       "<div>\n",
       "<style scoped>\n",
       "    .dataframe tbody tr th:only-of-type {\n",
       "        vertical-align: middle;\n",
       "    }\n",
       "\n",
       "    .dataframe tbody tr th {\n",
       "        vertical-align: top;\n",
       "    }\n",
       "\n",
       "    .dataframe thead th {\n",
       "        text-align: right;\n",
       "    }\n",
       "</style>\n",
       "<table border=\"1\" class=\"dataframe\">\n",
       "  <thead>\n",
       "    <tr style=\"text-align: right;\">\n",
       "      <th></th>\n",
       "      <th>Brand</th>\n",
       "      <th>Retail Price</th>\n",
       "      <th>Shoe Size</th>\n",
       "      <th>Days_after_release_2 weeks</th>\n",
       "      <th>Days_after_release_2 months</th>\n",
       "      <th>Days_after_release_1 year</th>\n",
       "      <th>Days_after_release_Over 1 year</th>\n",
       "    </tr>\n",
       "  </thead>\n",
       "  <tbody>\n",
       "    <tr>\n",
       "      <th>72993</th>\n",
       "      <td>0</td>\n",
       "      <td>220</td>\n",
       "      <td>11.0</td>\n",
       "      <td>1</td>\n",
       "      <td>0</td>\n",
       "      <td>0</td>\n",
       "      <td>0</td>\n",
       "    </tr>\n",
       "    <tr>\n",
       "      <th>4198</th>\n",
       "      <td>0</td>\n",
       "      <td>220</td>\n",
       "      <td>10.0</td>\n",
       "      <td>1</td>\n",
       "      <td>0</td>\n",
       "      <td>0</td>\n",
       "      <td>0</td>\n",
       "    </tr>\n",
       "    <tr>\n",
       "      <th>29894</th>\n",
       "      <td>0</td>\n",
       "      <td>220</td>\n",
       "      <td>4.5</td>\n",
       "      <td>1</td>\n",
       "      <td>0</td>\n",
       "      <td>0</td>\n",
       "      <td>0</td>\n",
       "    </tr>\n",
       "    <tr>\n",
       "      <th>5275</th>\n",
       "      <td>0</td>\n",
       "      <td>220</td>\n",
       "      <td>8.0</td>\n",
       "      <td>1</td>\n",
       "      <td>0</td>\n",
       "      <td>0</td>\n",
       "      <td>0</td>\n",
       "    </tr>\n",
       "    <tr>\n",
       "      <th>8432</th>\n",
       "      <td>0</td>\n",
       "      <td>220</td>\n",
       "      <td>12.0</td>\n",
       "      <td>1</td>\n",
       "      <td>0</td>\n",
       "      <td>0</td>\n",
       "      <td>0</td>\n",
       "    </tr>\n",
       "  </tbody>\n",
       "</table>\n",
       "</div>"
      ],
      "text/plain": [
       "       Brand  Retail Price  Shoe Size  Days_after_release_2 weeks  \\\n",
       "72993      0           220       11.0                           1   \n",
       "4198       0           220       10.0                           1   \n",
       "29894      0           220        4.5                           1   \n",
       "5275       0           220        8.0                           1   \n",
       "8432       0           220       12.0                           1   \n",
       "\n",
       "       Days_after_release_2 months  Days_after_release_1 year  \\\n",
       "72993                            0                          0   \n",
       "4198                             0                          0   \n",
       "29894                            0                          0   \n",
       "5275                             0                          0   \n",
       "8432                             0                          0   \n",
       "\n",
       "       Days_after_release_Over 1 year  \n",
       "72993                               0  \n",
       "4198                                0  \n",
       "29894                               0  \n",
       "5275                                0  \n",
       "8432                                0  "
      ]
     },
     "execution_count": 51,
     "metadata": {},
     "output_type": "execute_result"
    }
   ],
   "source": [
    "#Let's find out when is the best time to sell\n",
    "two_weeks = X_test.loc[X_test['Days_after_release_2 weeks'] == 1]\n",
    "two_weeks.head()"
   ]
  },
  {
   "cell_type": "code",
   "execution_count": 52,
   "id": "thermal-budapest",
   "metadata": {},
   "outputs": [
    {
     "data": {
      "text/plain": [
       "59.230423348474744"
      ]
     },
     "execution_count": 52,
     "metadata": {},
     "output_type": "execute_result"
    }
   ],
   "source": [
    "#Mean ROI prediction for sneakers sold within the first two weeks\n",
    "two_weeks_pred = model.predict(two_weeks)\n",
    "np.median(two_weeks_pred)"
   ]
  },
  {
   "cell_type": "code",
   "execution_count": 53,
   "id": "musical-millennium",
   "metadata": {},
   "outputs": [
    {
     "data": {
      "text/html": [
       "<div>\n",
       "<style scoped>\n",
       "    .dataframe tbody tr th:only-of-type {\n",
       "        vertical-align: middle;\n",
       "    }\n",
       "\n",
       "    .dataframe tbody tr th {\n",
       "        vertical-align: top;\n",
       "    }\n",
       "\n",
       "    .dataframe thead th {\n",
       "        text-align: right;\n",
       "    }\n",
       "</style>\n",
       "<table border=\"1\" class=\"dataframe\">\n",
       "  <thead>\n",
       "    <tr style=\"text-align: right;\">\n",
       "      <th></th>\n",
       "      <th>Brand</th>\n",
       "      <th>Retail Price</th>\n",
       "      <th>Shoe Size</th>\n",
       "      <th>Days_after_release_2 weeks</th>\n",
       "      <th>Days_after_release_2 months</th>\n",
       "      <th>Days_after_release_1 year</th>\n",
       "      <th>Days_after_release_Over 1 year</th>\n",
       "    </tr>\n",
       "  </thead>\n",
       "  <tbody>\n",
       "    <tr>\n",
       "      <th>80079</th>\n",
       "      <td>0</td>\n",
       "      <td>220</td>\n",
       "      <td>10.0</td>\n",
       "      <td>0</td>\n",
       "      <td>1</td>\n",
       "      <td>0</td>\n",
       "      <td>0</td>\n",
       "    </tr>\n",
       "    <tr>\n",
       "      <th>33151</th>\n",
       "      <td>0</td>\n",
       "      <td>220</td>\n",
       "      <td>9.5</td>\n",
       "      <td>0</td>\n",
       "      <td>1</td>\n",
       "      <td>0</td>\n",
       "      <td>0</td>\n",
       "    </tr>\n",
       "    <tr>\n",
       "      <th>72270</th>\n",
       "      <td>1</td>\n",
       "      <td>170</td>\n",
       "      <td>8.0</td>\n",
       "      <td>0</td>\n",
       "      <td>1</td>\n",
       "      <td>0</td>\n",
       "      <td>0</td>\n",
       "    </tr>\n",
       "    <tr>\n",
       "      <th>35718</th>\n",
       "      <td>0</td>\n",
       "      <td>220</td>\n",
       "      <td>5.5</td>\n",
       "      <td>0</td>\n",
       "      <td>1</td>\n",
       "      <td>0</td>\n",
       "      <td>0</td>\n",
       "    </tr>\n",
       "    <tr>\n",
       "      <th>87440</th>\n",
       "      <td>0</td>\n",
       "      <td>220</td>\n",
       "      <td>10.5</td>\n",
       "      <td>0</td>\n",
       "      <td>1</td>\n",
       "      <td>0</td>\n",
       "      <td>0</td>\n",
       "    </tr>\n",
       "  </tbody>\n",
       "</table>\n",
       "</div>"
      ],
      "text/plain": [
       "       Brand  Retail Price  Shoe Size  Days_after_release_2 weeks  \\\n",
       "80079      0           220       10.0                           0   \n",
       "33151      0           220        9.5                           0   \n",
       "72270      1           170        8.0                           0   \n",
       "35718      0           220        5.5                           0   \n",
       "87440      0           220       10.5                           0   \n",
       "\n",
       "       Days_after_release_2 months  Days_after_release_1 year  \\\n",
       "80079                            1                          0   \n",
       "33151                            1                          0   \n",
       "72270                            1                          0   \n",
       "35718                            1                          0   \n",
       "87440                            1                          0   \n",
       "\n",
       "       Days_after_release_Over 1 year  \n",
       "80079                               0  \n",
       "33151                               0  \n",
       "72270                               0  \n",
       "35718                               0  \n",
       "87440                               0  "
      ]
     },
     "execution_count": 53,
     "metadata": {},
     "output_type": "execute_result"
    }
   ],
   "source": [
    "#two months\n",
    "two_months = X_test.loc[X_test['Days_after_release_2 months'] == 1]\n",
    "two_months.head()"
   ]
  },
  {
   "cell_type": "code",
   "execution_count": 54,
   "id": "elementary-moldova",
   "metadata": {},
   "outputs": [
    {
     "data": {
      "text/plain": [
       "54.53939183661507"
      ]
     },
     "execution_count": 54,
     "metadata": {},
     "output_type": "execute_result"
    }
   ],
   "source": [
    "two_months_pred = model.predict(two_months)\n",
    "np.median(two_months_pred)"
   ]
  },
  {
   "cell_type": "code",
   "execution_count": 55,
   "id": "prescription-python",
   "metadata": {},
   "outputs": [
    {
     "data": {
      "text/plain": [
       "89.62478989086051"
      ]
     },
     "execution_count": 55,
     "metadata": {},
     "output_type": "execute_result"
    }
   ],
   "source": [
    "#one year\n",
    "one_year = X_test.loc[X_test['Days_after_release_1 year'] == 1]\n",
    "one_year_pred = model.predict(one_year)\n",
    "np.median(one_year_pred)"
   ]
  },
  {
   "cell_type": "code",
   "execution_count": 56,
   "id": "incredible-answer",
   "metadata": {},
   "outputs": [
    {
     "data": {
      "text/plain": [
       "58.180859506477105"
      ]
     },
     "execution_count": 56,
     "metadata": {},
     "output_type": "execute_result"
    }
   ],
   "source": [
    "#over one year\n",
    "over_one_year = X_test.loc[X_test['Days_after_release_Over 1 year'] == 1]\n",
    "over_one_year_pred = model.predict(over_one_year)\n",
    "np.median(over_one_year_pred)"
   ]
  },
  {
   "cell_type": "code",
   "execution_count": 57,
   "id": "sexual-atlanta",
   "metadata": {},
   "outputs": [
    {
     "data": {
      "image/png": "[encoded data removed]",
      "text/plain": [
       "<Figure size 864x720 with 4 Axes>"
      ]
     },
     "metadata": {
      "needs_background": "light"
     },
     "output_type": "display_data"
    }
   ],
   "source": [
    "#From the median we see selling one year after the release date gives the highest ROI\n",
    "#plot violinplots\n",
    "plt.figure(figsize=(12,10))\n",
    "\n",
    "#two weeks\n",
    "plt.subplot(2,2,1)\n",
    "sns.violinplot(y=two_weeks_pred)\n",
    "plt.title('Two Weeks')\n",
    "plt.ylabel('ROI')\n",
    "\n",
    "#two months\n",
    "plt.subplot(2,2,2)\n",
    "sns.violinplot(y=two_months_pred)\n",
    "plt.title('Two Months')\n",
    "plt.ylabel('ROI')\n",
    "\n",
    "#one year\n",
    "plt.subplot(2,2,3)\n",
    "sns.violinplot(y=one_year_pred)\n",
    "plt.title('One Year')\n",
    "plt.ylabel('ROI')\n",
    "\n",
    "#over one year\n",
    "plt.subplot(2,2,4)\n",
    "sns.violinplot(y=over_one_year_pred)\n",
    "plt.title('Over One Year')\n",
    "plt.ylabel('ROI')\n",
    "\n",
    "plt.show()"
   ]
  },
  {
   "cell_type": "code",
   "execution_count": 58,
   "id": "bulgarian-kelly",
   "metadata": {},
   "outputs": [
    {
     "data": {
      "text/plain": [
       "array([12. , 14. ,  6.5, 11. ,  9.5, 10. , 11.5,  7.5, 10.5,  4. ,  6. ,\n",
       "        8. ,  4.5,  7. ,  5.5,  9. , 12.5,  8.5, 13. ,  5. , 13.5, 15. ,\n",
       "       14.5, 16. ])"
      ]
     },
     "execution_count": 58,
     "metadata": {},
     "output_type": "execute_result"
    }
   ],
   "source": [
    "#Now find out how shoe size affects ROI based on our model\n",
    "#See full range of shoe sizes\n",
    "sizes = X_test['Shoe Size'].unique()\n",
    "sizes"
   ]
  },
  {
   "cell_type": "code",
   "execution_count": 59,
   "id": "violent-billy",
   "metadata": {},
   "outputs": [],
   "source": [
    "#Sizes range from 4 to 16, so let's split into three groups\n",
    "small = X_test.loc[X_test['Shoe Size'] < 8]\n",
    "medium = X_test.loc[(X_test['Shoe Size'] > 7.5) & (X_test['Shoe Size'] < 12)]\n",
    "large = X_test.loc[X_test['Shoe Size'] > 11.5]"
   ]
  },
  {
   "cell_type": "code",
   "execution_count": 60,
   "id": "bulgarian-element",
   "metadata": {},
   "outputs": [
    {
     "data": {
      "text/plain": [
       "54.11819957384075"
      ]
     },
     "execution_count": 60,
     "metadata": {},
     "output_type": "execute_result"
    }
   ],
   "source": [
    "#Find median ROI for each group\n",
    "small_pred = model.predict(small)\n",
    "np.median(small_pred)"
   ]
  },
  {
   "cell_type": "code",
   "execution_count": 61,
   "id": "neither-lightning",
   "metadata": {},
   "outputs": [
    {
     "data": {
      "text/plain": [
       "61.97153845035939"
      ]
     },
     "execution_count": 61,
     "metadata": {},
     "output_type": "execute_result"
    }
   ],
   "source": [
    "#medium\n",
    "medium_pred = model.predict(medium)\n",
    "np.median(medium_pred)"
   ]
  },
  {
   "cell_type": "code",
   "execution_count": 62,
   "id": "economic-throw",
   "metadata": {},
   "outputs": [
    {
     "data": {
      "text/plain": [
       "64.53066701415186"
      ]
     },
     "execution_count": 62,
     "metadata": {},
     "output_type": "execute_result"
    }
   ],
   "source": [
    "#large\n",
    "large_pred = model.predict(large)\n",
    "np.median(large_pred)"
   ]
  },
  {
   "cell_type": "code",
   "execution_count": 63,
   "id": "coated-prerequisite",
   "metadata": {},
   "outputs": [
    {
     "data": {
      "image/png": "[encoded data removed]",
      "text/plain": [
       "<Figure size 864x720 with 3 Axes>"
      ]
     },
     "metadata": {
      "needs_background": "light"
     },
     "output_type": "display_data"
    }
   ],
   "source": [
    "#The medians show that sizes 8 and up generally have a higher ROI\n",
    "#Create violinplots for size feature\n",
    "plt.figure(figsize=(12,10))\n",
    "\n",
    "#small\n",
    "plt.subplot(2,2,1)\n",
    "sns.violinplot(y=small_pred)\n",
    "plt.title('Small')\n",
    "plt.ylabel('ROI')\n",
    "\n",
    "#medium\n",
    "plt.subplot(2,2,2)\n",
    "sns.violinplot(y=medium_pred)\n",
    "plt.title('Medium')\n",
    "plt.ylabel('ROI')\n",
    "\n",
    "#large\n",
    "plt.subplot(2,2,3)\n",
    "sns.violinplot(y=large_pred)\n",
    "plt.title('Large')\n",
    "plt.ylabel('ROI')\n",
    "\n",
    "plt.show()"
   ]
  },
  {
   "cell_type": "code",
   "execution_count": 64,
   "id": "organized-remains",
   "metadata": {},
   "outputs": [
    {
     "data": {
      "image/png": "[encoded data removed]",
      "text/plain": [
       "<Figure size 1080x576 with 1 Axes>"
      ]
     },
     "metadata": {
      "needs_background": "light"
     },
     "output_type": "display_data"
    }
   ],
   "source": [
    "#plot line graph of median ROI at each size\n",
    "roi = []\n",
    "sizes.sort()\n",
    "for size in sizes:\n",
    "    ypoint = np.median(model.predict(X_test.loc[X_test['Shoe Size'] == size]))\n",
    "    roi.append(ypoint)\n",
    "plt.figure(figsize=(15,8))\n",
    "plt.plot(sizes, roi)\n",
    "plt.xticks(np.arange(4, 16.5, step=0.5))\n",
    "plt.grid()\n",
    "plt.title('ROI Based on Shoe Size')\n",
    "plt.xlabel('Shoe Size')\n",
    "plt.ylabel('ROI')\n",
    "plt.show()"
   ]
  }
 ],
 "metadata": {
  "kernelspec": {
   "display_name": "Python 3",
   "language": "python",
   "name": "python3"
  },
  "language_info": {
   "codemirror_mode": {
    "name": "ipython",
    "version": 3
   },
   "file_extension": ".py",
   "mimetype": "text/x-python",
   "name": "python",
   "nbconvert_exporter": "python",
   "pygments_lexer": "ipython3",
   "version": "3.7.9"
  }
 },
 "nbformat": 4,
 "nbformat_minor": 5
}
